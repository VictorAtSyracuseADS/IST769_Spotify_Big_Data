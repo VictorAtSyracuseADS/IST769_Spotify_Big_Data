{
 "cells": [
  {
   "cell_type": "code",
   "execution_count": 1,
   "id": "fc3103d2-0320-462b-b5db-3f390f81e172",
   "metadata": {},
   "outputs": [],
   "source": [
    "# Custom functions\n",
    "from functions import *"
   ]
  },
  {
   "cell_type": "code",
   "execution_count": 2,
   "id": "fc7f5b4e-59a2-4737-8912-7ebe582518d3",
   "metadata": {},
   "outputs": [],
   "source": [
    "# Random list of Spotify country codes\n",
    "list_country_codes = ['AD', 'AR', 'AU', 'AT', 'BE', 'BO', 'BR', 'BG', 'CA', 'CH', 'CL', 'CO', 'CR', 'CY', 'CZ', 'DK', 'DO', 'EC', 'SV', 'EE', 'FI', 'FR', 'DE', 'GR', 'GT', 'HN', 'HK', 'HU', 'IS', 'ID', 'IE', 'IT', 'JP', 'LV', 'LI', 'LT', 'LU', 'MY', 'MT', 'MX', 'MC', 'NL', 'NZ', 'NI', 'NO', 'PA', 'PY', 'PE', 'PH', 'PL', 'PT', 'SG', 'ES', 'SK', 'SE', 'CH', 'TW', 'TR', 'GB', 'US', 'UY']"
   ]
  },
  {
   "cell_type": "code",
   "execution_count": 3,
   "id": "b4e77c32-db21-4008-8210-c656e59d0407",
   "metadata": {},
   "outputs": [
    {
     "name": "stdout",
     "output_type": "stream",
     "text": [
      "['AU' 'CR' 'LT']\n"
     ]
    }
   ],
   "source": [
    "# Randomized sample of countries\n",
    "# For more countries, change the size argument\n",
    "country_codes = np.random.choice(list_country_codes, size = 3, replace = False)\n",
    "\n",
    "print(country_codes)"
   ]
  },
  {
   "cell_type": "code",
   "execution_count": 4,
   "id": "f915ea16-59ea-4102-b38f-1f983d2ddd5e",
   "metadata": {},
   "outputs": [
    {
     "name": "stdout",
     "output_type": "stream",
     "text": [
      "Making dataframe for AU: Australia\n",
      "Making dataframe for CR: Costa Rica\n",
      "Making dataframe for LT: Lithuania\n",
      "Done!\n"
     ]
    }
   ],
   "source": [
    "# Get the df for each country's top playlist and combine into one\n",
    "\n",
    "df = make_sp_dataset(country_codes)\n",
    "\n",
    "# Choose whether to save as CSV or JSON\n",
    "\n",
    "df.to_csv(f'world_top_playlists.csv', index = False, header = True)"
   ]
  },
  {
   "cell_type": "code",
   "execution_count": 6,
   "id": "0decad5e-ea65-4932-9d86-4fded8c2da32",
   "metadata": {},
   "outputs": [],
   "source": [
    "# Decide the two file paths \n",
    "csvFilePath = r'world_top_playlists.csv'\n",
    "jsonFilePath = r'mongo_playlist_data.json'\n",
    " \n",
    "# Call the make_json function\n",
    "make_json(csvFilePath, jsonFilePath)"
   ]
  }
 ],
 "metadata": {
  "kernelspec": {
   "display_name": "Python 3 (ipykernel)",
   "language": "python",
   "name": "python3"
  },
  "language_info": {
   "codemirror_mode": {
    "name": "ipython",
    "version": 3
   },
   "file_extension": ".py",
   "mimetype": "text/x-python",
   "name": "python",
   "nbconvert_exporter": "python",
   "pygments_lexer": "ipython3",
   "version": "3.8.5"
  }
 },
 "nbformat": 4,
 "nbformat_minor": 5
}
